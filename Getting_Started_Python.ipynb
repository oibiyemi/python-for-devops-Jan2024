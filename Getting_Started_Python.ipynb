{
  "nbformat": 4,
  "nbformat_minor": 0,
  "metadata": {
    "colab": {
      "provenance": [],
      "authorship_tag": "ABX9TyPwF3dywSha0SdJMAj2lQcn",
      "include_colab_link": true
    },
    "kernelspec": {
      "name": "python3",
      "display_name": "Python 3"
    },
    "language_info": {
      "name": "python"
    }
  },
  "cells": [
    {
      "cell_type": "markdown",
      "metadata": {
        "id": "view-in-github",
        "colab_type": "text"
      },
      "source": [
        "<a href=\"https://colab.research.google.com/github/oibiyemi/python-for-devops-Jan2024/blob/main/Getting_Started_Python.ipynb\" target=\"_parent\"><img src=\"https://colab.research.google.com/assets/colab-badge.svg\" alt=\"Open In Colab\"/></a>"
      ]
    },
    {
      "cell_type": "markdown",
      "source": [
        "# Introduction to python"
      ],
      "metadata": {
        "id": "2gOMHUEqcNtP"
      }
    },
    {
      "cell_type": "markdown",
      "source": [
        "## Statements in Python"
      ],
      "metadata": {
        "id": "xk68-KkGdr0V"
      }
    },
    {
      "cell_type": "code",
      "source": [
        "print(\"Hello World\")"
      ],
      "metadata": {
        "colab": {
          "base_uri": "https://localhost:8080/"
        },
        "id": "zg-6LXZtewgy",
        "outputId": "c0c458d8-5317-47fb-fbca-041d81c971c3"
      },
      "execution_count": 1,
      "outputs": [
        {
          "output_type": "stream",
          "name": "stdout",
          "text": [
            "Hello World\n"
          ]
        }
      ]
    },
    {
      "cell_type": "code",
      "source": [
        "name = 'bob'\n",
        "print(f\"Hi {name}\")"
      ],
      "metadata": {
        "colab": {
          "base_uri": "https://localhost:8080/"
        },
        "id": "A7OUuoJjfI8b",
        "outputId": "16060534-8349-445e-b612-4fe993b3ac2c"
      },
      "execution_count": 2,
      "outputs": [
        {
          "output_type": "stream",
          "name": "stdout",
          "text": [
            "Hi bob\n"
          ]
        }
      ]
    },
    {
      "cell_type": "markdown",
      "source": [
        "Data Structures : Lists & Dictionaries"
      ],
      "metadata": {
        "id": "aCMBXLQOfmWH"
      }
    },
    {
      "cell_type": "markdown",
      "source": [
        "Lists"
      ],
      "metadata": {
        "id": "7S6Bu0rBhuIr"
      }
    },
    {
      "cell_type": "code",
      "source": [
        "fruit = [\"apple\", \"strawberry\", \"avocado\"]\n",
        "type(fruit)\n",
        "\n",
        "fruit[0]\n",
        "\n",
        "fruit[-1]\n",
        "\n",
        "for items in fruit:\n",
        "  print(f\"This is my favorite {items}\")"
      ],
      "metadata": {
        "colab": {
          "base_uri": "https://localhost:8080/"
        },
        "id": "E_etDisaftD5",
        "outputId": "e08f2c1e-cf44-419d-a5ef-08f9d601dc54"
      },
      "execution_count": 6,
      "outputs": [
        {
          "output_type": "stream",
          "name": "stdout",
          "text": [
            "This is my favorite apple\n",
            "This is my favorite strawberry\n",
            "This is my favorite avocado\n"
          ]
        }
      ]
    },
    {
      "cell_type": "markdown",
      "source": [
        "Dictionary"
      ],
      "metadata": {
        "id": "CGrgHYlehbvC"
      }
    },
    {
      "cell_type": "code",
      "source": [
        "meal = {\"breakfast\": \"black coffee\", \"launch\": \"salad\", \"dinner\": \"rice and beans\"}"
      ],
      "metadata": {
        "id": "4ul7PUFRhnxr"
      },
      "execution_count": null,
      "outputs": []
    }
  ]
}