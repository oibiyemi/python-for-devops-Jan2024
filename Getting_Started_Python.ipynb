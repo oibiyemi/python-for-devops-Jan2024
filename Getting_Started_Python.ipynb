{
  "cells": [
    {
      "cell_type": "markdown",
      "metadata": {
        "colab_type": "text",
        "id": "view-in-github"
      },
      "source": [
        "<a href=\"https://colab.research.google.com/github/oibiyemi/python-for-devops-Jan2024/blob/main/Getting_Started_Python.ipynb\" target=\"_parent\"><img src=\"https://colab.research.google.com/assets/colab-badge.svg\" alt=\"Open In Colab\"/></a>"
      ]
    },
    {
      "cell_type": "markdown",
      "metadata": {
        "id": "2gOMHUEqcNtP"
      },
      "source": [
        "# Introduction to python"
      ]
    },
    {
      "cell_type": "markdown",
      "metadata": {
        "id": "xk68-KkGdr0V"
      },
      "source": [
        "## Statements in Python"
      ]
    },
    {
      "cell_type": "code",
      "execution_count": 1,
      "metadata": {
        "colab": {
          "base_uri": "https://localhost:8080/"
        },
        "id": "zg-6LXZtewgy",
        "outputId": "c0c458d8-5317-47fb-fbca-041d81c971c3"
      },
      "outputs": [
        {
          "name": "stdout",
          "output_type": "stream",
          "text": [
            "Hello World\n"
          ]
        }
      ],
      "source": [
        "print(\"Hello World\")"
      ]
    },
    {
      "cell_type": "code",
      "execution_count": 2,
      "metadata": {
        "colab": {
          "base_uri": "https://localhost:8080/"
        },
        "id": "A7OUuoJjfI8b",
        "outputId": "16060534-8349-445e-b612-4fe993b3ac2c"
      },
      "outputs": [
        {
          "name": "stdout",
          "output_type": "stream",
          "text": [
            "Hi bob\n"
          ]
        }
      ],
      "source": [
        "name = 'bob'\n",
        "print(f\"Hi {name}\")"
      ]
    },
    {
      "cell_type": "markdown",
      "metadata": {
        "id": "aCMBXLQOfmWH"
      },
      "source": [
        "Data Structures : Lists & Dictionaries"
      ]
    },
    {
      "cell_type": "markdown",
      "metadata": {
        "id": "7S6Bu0rBhuIr"
      },
      "source": [
        "Lists"
      ]
    },
    {
      "cell_type": "code",
      "execution_count": 6,
      "metadata": {
        "colab": {
          "base_uri": "https://localhost:8080/"
        },
        "id": "E_etDisaftD5",
        "outputId": "e08f2c1e-cf44-419d-a5ef-08f9d601dc54"
      },
      "outputs": [
        {
          "name": "stdout",
          "output_type": "stream",
          "text": [
            "This is my favorite apple\n",
            "This is my favorite strawberry\n",
            "This is my favorite avocado\n"
          ]
        }
      ],
      "source": [
        "fruit = [\"apple\", \"strawberry\", \"avocado\"]\n",
        "type(fruit)\n",
        "\n",
        "fruit[0]\n",
        "\n",
        "fruit[-1]\n",
        "\n",
        "for items in fruit:\n",
        "  print(f\"This is my favorite {items}\")"
      ]
    },
    {
      "cell_type": "markdown",
      "metadata": {
        "id": "CGrgHYlehbvC"
      },
      "source": [
        "Dictionary"
      ]
    },
    {
      "cell_type": "code",
      "execution_count": null,
      "metadata": {
        "id": "4ul7PUFRhnxr"
      },
      "outputs": [],
      "source": [
        "meal = {\"breakfast\": \"black coffee\", \"launch\": \"salad\", \"dinner\": \"rice and beans\"}"
      ]
    }
  ],
  "metadata": {
    "colab": {
      "authorship_tag": "ABX9TyPwF3dywSha0SdJMAj2lQcn",
      "include_colab_link": true,
      "provenance": []
    },
    "kernelspec": {
      "display_name": "Python 3",
      "name": "python3"
    },
    "language_info": {
      "name": "python"
    }
  },
  "nbformat": 4,
  "nbformat_minor": 0
}
